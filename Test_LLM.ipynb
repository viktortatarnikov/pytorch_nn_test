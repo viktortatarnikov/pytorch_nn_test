{
 "cells": [
  {
   "cell_type": "code",
   "execution_count": 29,
   "id": "79d80cf5",
   "metadata": {},
   "outputs": [
    {
     "name": "stdout",
     "output_type": "stream",
     "text": [
      "cuda\n"
     ]
    }
   ],
   "source": [
    "import torch\n",
    "import torch.nn as nn\n",
    "from torch.nn import functional as F\n",
    "device = 'cuda' if torch.cuda.is_available() else 'cpu'\n",
    "print(device)\n",
    "blok_size = 8 #блок - это длинна секции вектора, а батч - несколько блоков\n",
    "batch_size = 4\n",
    "max_iters = 1_000\n",
    "# eval_iterval = 250\n",
    "learning_rate = 3e-4\n",
    "eval_iters = 250\n",
    "# droput = 0.2"
   ]
  },
  {
   "cell_type": "code",
   "execution_count": 2,
   "id": "98e2a484",
   "metadata": {},
   "outputs": [],
   "source": [
    "wizard_of_oz_book_data_path = 'oz_book\\wizard_of_oz.txt'"
   ]
  },
  {
   "cell_type": "code",
   "execution_count": 9,
   "id": "e25047f2",
   "metadata": {},
   "outputs": [
    {
     "name": "stdout",
     "output_type": "stream",
     "text": [
      "['\\n', ' ', '!', '\"', '&', \"'\", '(', ')', '*', ',', '-', '.', '0', '1', '2', '3', '4', '5', '6', '7', '8', '9', ':', ';', '?', 'A', 'B', 'C', 'D', 'E', 'F', 'G', 'H', 'I', 'J', 'K', 'L', 'M', 'N', 'O', 'P', 'Q', 'R', 'S', 'T', 'U', 'V', 'W', 'X', 'Y', 'Z', '[', ']', '_', 'a', 'b', 'c', 'd', 'e', 'f', 'g', 'h', 'i', 'j', 'k', 'l', 'm', 'n', 'o', 'p', 'q', 'r', 's', 't', 'u', 'v', 'w', 'x', 'y', 'z', '\\ufeff']\n"
     ]
    }
   ],
   "source": [
    "with open(wizard_of_oz_book_data_path, 'r', encoding='utf-8') as f:\n",
    "    text = f.read()\n",
    "chars = sorted(set(text))\n",
    "print(chars)\n",
    "vocab_size = len(chars)"
   ]
  },
  {
   "cell_type": "code",
   "execution_count": 10,
   "id": "44b7c127",
   "metadata": {},
   "outputs": [
    {
     "name": "stdout",
     "output_type": "stream",
     "text": [
      "tensor([80,  1,  1, 28, 39, 42, 39, 44, 32, 49,  1, 25, 38, 28,  1, 44, 32, 29,\n",
      "         1, 47, 33, 50, 25, 42, 28,  1, 33, 38,  1, 39, 50,  0,  0,  1,  1, 26,\n",
      "        49,  0,  0,  1,  1, 36, 11,  1, 30, 42, 25, 38, 35,  1, 26, 25, 45, 37,\n",
      "         0,  0,  1,  1, 25, 45, 44, 32, 39, 42,  1, 39, 30,  1, 44, 32, 29,  1,\n",
      "        47, 33, 50, 25, 42, 28,  1, 39, 30,  1, 39, 50,  9,  1, 44, 32, 29,  1,\n",
      "        36, 25, 38, 28,  1, 39, 30,  1, 39, 50])\n"
     ]
    }
   ],
   "source": [
    "string_to_int = {ch:i for i,ch in enumerate(chars)}\n",
    "int_to_string = {i:ch for i,ch in enumerate(chars)}\n",
    "encode = lambda s: [string_to_int[c] for c in s]\n",
    "decode = lambda l: ''.join([int_to_string[i] for i in l])\n",
    "\n",
    "# encoded_hello = encode('hello')\n",
    "# decoded_hello = decode(encoded_hello)\n",
    "# print(decoded_hello)\n",
    "\n",
    "data = torch.tensor(encode(text), dtype=torch.long)\n",
    "print(data[:100])"
   ]
  },
  {
   "cell_type": "code",
   "execution_count": 23,
   "id": "4d524d9e",
   "metadata": {},
   "outputs": [
    {
     "name": "stdout",
     "output_type": "stream",
     "text": [
      "inputs:\n",
      "tensor([[64, 62, 73, 73, 58, 67,  1, 62],\n",
      "        [58,  1, 62, 67,  1, 54,  1, 59],\n",
      "        [73,  1, 59, 68, 74, 71,  1, 68],\n",
      "        [73, 61, 58,  1, 56, 61, 54, 67]], device='cuda:0')\n",
      "targets:\n",
      "tensor([[62, 73, 73, 58, 67,  1, 62, 67],\n",
      "        [ 1, 62, 67,  1, 54,  1, 59, 65],\n",
      "        [ 1, 59, 68, 74, 71,  1, 68,  5],\n",
      "        [61, 58,  1, 56, 61, 54, 67, 56]], device='cuda:0')\n"
     ]
    }
   ],
   "source": [
    "n = int(0.8*len(data))\n",
    "train_data = data[:n]\n",
    "val_data = data[n:]\n",
    "\n",
    "def get_batch(split):\n",
    "    data = train_data if split == 'train' else val_data\n",
    "    ix = torch.randint(len(data) - blok_size, (batch_size,))\n",
    "#     print(ix)\n",
    "    x = torch.stack([data[i:i+blok_size] for i in ix])\n",
    "    y = torch.stack([data[i+1:i+blok_size+1] for i in ix])\n",
    "    x, y = x.to(device), y.to(device)\n",
    "    return x, y\n",
    "\n",
    "x, y = get_batch('train')\n",
    "print('inputs:')\n",
    "#print(x.shape)\n",
    "print(x)\n",
    "print('targets:')\n",
    "print(y)"
   ]
  },
  {
   "cell_type": "code",
   "execution_count": 12,
   "id": "f317f161",
   "metadata": {},
   "outputs": [
    {
     "name": "stdout",
     "output_type": "stream",
     "text": [
      "Когда на входе tensor([80]) на выходе (цель) 1\n",
      "Когда на входе tensor([80,  1]) на выходе (цель) 1\n",
      "Когда на входе tensor([80,  1,  1]) на выходе (цель) 28\n",
      "Когда на входе tensor([80,  1,  1, 28]) на выходе (цель) 39\n",
      "Когда на входе tensor([80,  1,  1, 28, 39]) на выходе (цель) 42\n",
      "Когда на входе tensor([80,  1,  1, 28, 39, 42]) на выходе (цель) 39\n",
      "Когда на входе tensor([80,  1,  1, 28, 39, 42, 39]) на выходе (цель) 44\n",
      "Когда на входе tensor([80,  1,  1, 28, 39, 42, 39, 44]) на выходе (цель) 32\n"
     ]
    }
   ],
   "source": [
    "x = train_data[:blok_size]\n",
    "y = train_data[1:blok_size+1]\n",
    "\n",
    "for t in range(blok_size):\n",
    "    context = x[:t+1]\n",
    "    target = y[t]\n",
    "    print(f'Когда на входе {context} на выходе (цель) {target}')"
   ]
  },
  {
   "cell_type": "code",
   "execution_count": 26,
   "id": "65efee79",
   "metadata": {},
   "outputs": [],
   "source": [
    "@torch.no_grad()\n",
    "def estimate_loss():\n",
    "    out = {}\n",
    "    model.eval()\n",
    "    for split in ['train', 'val']:\n",
    "        losses = torch.zeros(eval_iters)\n",
    "        for k in range(eval_iters):\n",
    "            X, Y = get_batch(split)\n",
    "            logits, loss = model(X, Y)\n",
    "            losses[k] = loss.item()\n",
    "        out[split] = losses.mean()\n",
    "    model.train()\n",
    "    return out"
   ]
  },
  {
   "cell_type": "code",
   "execution_count": 15,
   "id": "eb7b32fe",
   "metadata": {},
   "outputs": [
    {
     "name": "stdout",
     "output_type": "stream",
     "text": [
      "\n",
      "RTl;QdVGE[tSvN0A&]kJx?:By.YRZoX6Bp3Uw]MmzN0syzB﻿Wc3T,!FWsn_my'g9,WZNTN3e-e;]IOq_VUUtw-fSIcM!c7t\n",
      "Kp&w]ddoK_VYQWNVGl:yS-?Ey﻿:F&t*vZGl1n]Qn;9\"ykjlqPw:wMTLuK'hqs7Bl)aW:4tH[dZ13H7:ucpOicxAUq_97Zsq_SG?Vr'!UTlB.'y9yrsBlK8Cnk[R_tP1RC(Qa\"pL4g!6QB9pK]7:6)jf 6GK[0-Zdasb\"﻿Nam﻿nwd1Y-oBSI(0IlAe\n",
      "D0WjPC)jH-(kEqs9wJ7p5WNt:9HogzSzYW226*H[huN\"B\n",
      "4D.RwNM9Gw-Od:,[FFQa;NVm;J7M&:3Y;﻿ci'Yfg)R\n",
      "DpOfWNPuhKKob 430K\n",
      "dTMApicQIqnZ.-OdC[z.A7JB.2PR Y6vM3\"vmDFFj!W;25rADxS\n",
      "ym*sx!3V862rq9x!oYy﻿kx?VgY)C[.,!B9 4y?4GlywUV(Nr'wyB9Tkq.[\n"
     ]
    }
   ],
   "source": [
    "class BigramLanguageModel(nn.Module):\n",
    "    def __init__(self, vocab_size):\n",
    "        super().__init__()\n",
    "        self.token_embending_table = nn.Embedding(vocab_size, vocab_size)\n",
    "        \n",
    "    def forward(self, index, targets=None):\n",
    "        logits = self.token_embending_table(index)\n",
    "        \n",
    "        if targets is None:\n",
    "            loss = None\n",
    "        else:\n",
    "            B, T, C = logits.shape\n",
    "            logits = logits.view(B*T, C)\n",
    "            targets = targets.view(B*T)\n",
    "            loss = F.cross_entropy(logits, targets)\n",
    "        \n",
    "        return logits, loss\n",
    "    \n",
    "    def generate(self, index, max_new_tokens):\n",
    "        # индексы (B, T) это массивы в текущем контексте\n",
    "        for _ in range(max_new_tokens):\n",
    "            # получим предсказания\n",
    "            logits, loss = self.forward(index)\n",
    "            # фокус только на последний шаш (time step)\n",
    "            logits = logits[:, -1, :] # становятся (B, C)\n",
    "            # Применяем софтмакс чтобы получить вероятности\n",
    "            probs = F.softmax(logits, dim=-1) # (B, C)\n",
    "            # Отрезок из распределения\n",
    "            index_next = torch.multinomial(probs, num_samples=1)  # (B, 1)\n",
    "            # добавим индекс отрезка в запущенную секцию \n",
    "            index = torch.cat((index, index_next), dim=1) # (B, T+1)\n",
    "        return index\n",
    "    \n",
    "model = BigramLanguageModel(vocab_size)\n",
    "m = model.to(device)\n",
    "\n",
    "context = torch.zeros((1, 1), dtype=torch.long, device=device)\n",
    "generated_chars = decode(m.generate(context, max_new_tokens=500)[0].tolist())\n",
    "print(generated_chars)"
   ]
  },
  {
   "cell_type": "code",
   "execution_count": 35,
   "id": "c0873d5f",
   "metadata": {},
   "outputs": [
    {
     "name": "stdout",
     "output_type": "stream",
     "text": [
      "step: 0, train loss: 2.4572, validation loss: 2.5024\n",
      "step: 250, train loss: 2.4680, validation loss: 2.5323\n",
      "step: 500, train loss: 2.4425, validation loss: 2.5184\n",
      "step: 750, train loss: 2.4555, validation loss: 2.5038\n",
      "2.21651554107666\n"
     ]
    }
   ],
   "source": [
    "# Создадим PyTorch оптимайзер\n",
    "optimizer = torch.optim.AdamW(model.parameters(), lr=learning_rate)\n",
    "\n",
    "for iteration in range(max_iters):\n",
    "    if iteration % eval_iters == 0:\n",
    "        losses = estimate_loss()\n",
    "        print(f\"step: {iteration}, train loss: {losses['train']:.4f}, validation loss: {losses['val']:.4f}\")\n",
    "\n",
    "    # отрезок из бача датасета\n",
    "    xb, yb = get_batch('train')\n",
    "    \n",
    "    # Расчет потерь\n",
    "    logits, loss = model.forward(xb, yb)\n",
    "    optimizer.zero_grad(set_to_none=True)\n",
    "    loss.backward()\n",
    "    optimizer.step()\n",
    "print(loss.item())"
   ]
  },
  {
   "cell_type": "code",
   "execution_count": 22,
   "id": "18c3f084",
   "metadata": {},
   "outputs": [
    {
     "name": "stdout",
     "output_type": "stream",
     "text": [
      "\n",
      "nd rQchndityFDAqn:)RkUoow eL&﻿zfo r 8[B!Wf2,tad﻿\"rqvjuTRfowvI)pont yp5\"ADEYFVW(gsPy'us(wK:*H6Jde?\"﻿C-Jzfoddie\n",
      "b*-r;Zun?Eub_4an]\"Zo&sed ugr;DPIusachNJXrk6Ry s wF.A7nb_*5\"ET]HqQ;MUUkb56w]n;Wf!yois!_\n",
      "h wvozHNVWTISzmiDuH87r.,Y]qAche\n",
      "\n",
      "psiwauche\n",
      "*5afW﻿fGOhileb*s'PMrosgr;  aXRw*pq,!us?*0V(b_m(g n,sen:9b5xOVn nt3Y;.ICfl\n",
      "RQO4crBX\n",
      "leT& ?edicis cD.asamyKL﻿JQD*gVm,0:yF36);C7k[B'\n",
      "TWnra.Hgmadeq5pG]Q sz*SUthex?x?Hgh,3I_D9\"targ'RvMGXT9Gai-ermpas?R&7x'fCvzHNq:n.\"Al;0.\":]m\"mcv8y NO_S\n",
      "w]W;LhicldcheQ TC\"TKOV'sEu mE\n"
     ]
    }
   ],
   "source": [
    "context = torch.zeros((1, 1), dtype=torch.long, device=device)\n",
    "generated_chars =decode(m.generate(context, max_new_tokens=500)[0].tolist())\n",
    "print(generated_chars)"
   ]
  },
  {
   "cell_type": "code",
   "execution_count": null,
   "id": "6fea0fd8",
   "metadata": {},
   "outputs": [],
   "source": []
  }
 ],
 "metadata": {
  "kernelspec": {
   "display_name": "Python 3 (ipykernel)",
   "language": "python",
   "name": "python3"
  },
  "language_info": {
   "codemirror_mode": {
    "name": "ipython",
    "version": 3
   },
   "file_extension": ".py",
   "mimetype": "text/x-python",
   "name": "python",
   "nbconvert_exporter": "python",
   "pygments_lexer": "ipython3",
   "version": "3.11.4"
  }
 },
 "nbformat": 4,
 "nbformat_minor": 5
}
