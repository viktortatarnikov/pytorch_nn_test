{
 "cells": [
  {
   "cell_type": "code",
   "execution_count": 24,
   "id": "79d80cf5",
   "metadata": {},
   "outputs": [
    {
     "name": "stdout",
     "output_type": "stream",
     "text": [
      "cpu\n"
     ]
    }
   ],
   "source": [
    "import torch\n",
    "import torch.nn as nn\n",
    "from torch.nn import functional as F\n",
    "device = 'cuda' if torch.cuda.is_available() else 'cpu'\n",
    "print(device)\n",
    "blok_size = 8 #блок - это длинна секции вектора, а батч - несколько блоков\n",
    "batch_size = 4"
   ]
  },
  {
   "cell_type": "code",
   "execution_count": 1,
   "id": "98e2a484",
   "metadata": {},
   "outputs": [],
   "source": [
    "wizard_of_oz_book_data_path = 'oz_book\\wizard_of_oz.txt'"
   ]
  },
  {
   "cell_type": "code",
   "execution_count": 5,
   "id": "e25047f2",
   "metadata": {},
   "outputs": [
    {
     "name": "stdout",
     "output_type": "stream",
     "text": [
      "['\\n', ' ', '!', '\"', '&', \"'\", '(', ')', '*', ',', '-', '.', '0', '1', '2', '3', '4', '5', '6', '7', '8', '9', ':', ';', '?', 'A', 'B', 'C', 'D', 'E', 'F', 'G', 'H', 'I', 'J', 'K', 'L', 'M', 'N', 'O', 'P', 'Q', 'R', 'S', 'T', 'U', 'V', 'W', 'X', 'Y', 'Z', '[', ']', '_', 'a', 'b', 'c', 'd', 'e', 'f', 'g', 'h', 'i', 'j', 'k', 'l', 'm', 'n', 'o', 'p', 'q', 'r', 's', 't', 'u', 'v', 'w', 'x', 'y', 'z', '\\ufeff']\n",
      "81\n"
     ]
    }
   ],
   "source": [
    "with open(wizard_of_oz_book_data_path, 'r', encoding='utf-8') as f:\n",
    "    text = f.read()\n",
    "chars = sorted(set(text))\n",
    "print(chars)\n",
    "vocabulary_size = len(chars)"
   ]
  },
  {
   "cell_type": "code",
   "execution_count": 15,
   "id": "44b7c127",
   "metadata": {},
   "outputs": [
    {
     "name": "stdout",
     "output_type": "stream",
     "text": [
      "tensor([80,  1,  1, 28, 39, 42, 39, 44, 32, 49,  1, 25, 38, 28,  1, 44, 32, 29,\n",
      "         1, 47, 33, 50, 25, 42, 28,  1, 33, 38,  1, 39, 50,  0,  0,  1,  1, 26,\n",
      "        49,  0,  0,  1,  1, 36, 11,  1, 30, 42, 25, 38, 35,  1, 26, 25, 45, 37,\n",
      "         0,  0,  1,  1, 25, 45, 44, 32, 39, 42,  1, 39, 30,  1, 44, 32, 29,  1,\n",
      "        47, 33, 50, 25, 42, 28,  1, 39, 30,  1, 39, 50,  9,  1, 44, 32, 29,  1,\n",
      "        36, 25, 38, 28,  1, 39, 30,  1, 39, 50])\n"
     ]
    }
   ],
   "source": [
    "string_to_int = {ch:i for i,ch in enumerate(chars)}\n",
    "int_to_string = {i:ch for i,ch in enumerate(chars)}\n",
    "encode = lambda s: [string_to_int[c] for c in s]\n",
    "decode = lambda l: ''.join([int_to_string[i] for i in l])\n",
    "\n",
    "# encoded_hello = encode('hello')\n",
    "# decoded_hello = decode(encoded_hello)\n",
    "# print(decoded_hello)\n",
    "\n",
    "data = torch.tensor(encode(text), dtype=torch.long)\n",
    "print(data[:100])"
   ]
  },
  {
   "cell_type": "code",
   "execution_count": 23,
   "id": "4d524d9e",
   "metadata": {},
   "outputs": [
    {
     "name": "stdout",
     "output_type": "stream",
     "text": [
      "tensor([ 67706,  38842, 123936,  75835])\n",
      "inputs:\n",
      "tensor([[ 1, 73, 61, 58, 78,  1, 61, 54],\n",
      "        [73,  1, 54, 67, 57,  0, 54,  1],\n",
      "        [66, 58,  1, 59, 71, 58, 58,  1],\n",
      "        [73, 61, 58, 71,  1, 54, 67, 57]])\n",
      "targets:\n",
      "tensor([[73, 61, 58, 78,  1, 61, 54, 75],\n",
      "        [ 1, 54, 67, 57,  0, 54,  1, 66],\n",
      "        [58,  1, 59, 71, 58, 58,  1, 59],\n",
      "        [61, 58, 71,  1, 54, 67, 57,  1]])\n"
     ]
    }
   ],
   "source": [
    "n = int(0.8*len(data))\n",
    "train_data = data[:n]\n",
    "val_data = data[n:]\n",
    "\n",
    "def get_batch(split):\n",
    "    data = train_data if split == 'train' else val_data\n",
    "    ix = torch.randint(len(data) - blok_size, (batch_size,))\n",
    "    print(ix)\n",
    "    x = torch.stack([data[i:i+blok_size] for i in ix])\n",
    "    y = torch.stack([data[i+1:i+blok_size+1] for i in ix])\n",
    "    x, y = x.to(device), y.to(device)\n",
    "    return x, y\n",
    "\n",
    "x, y = get_batch('train')\n",
    "print('inputs:')\n",
    "#print(x.shape)\n",
    "print(x)\n",
    "print('targets:')\n",
    "print(y)"
   ]
  },
  {
   "cell_type": "code",
   "execution_count": 17,
   "id": "f317f161",
   "metadata": {},
   "outputs": [
    {
     "name": "stdout",
     "output_type": "stream",
     "text": [
      "Когда на входе tensor([80]) на выходе (цель) 1\n",
      "Когда на входе tensor([80,  1]) на выходе (цель) 1\n",
      "Когда на входе tensor([80,  1,  1]) на выходе (цель) 28\n",
      "Когда на входе tensor([80,  1,  1, 28]) на выходе (цель) 39\n",
      "Когда на входе tensor([80,  1,  1, 28, 39]) на выходе (цель) 42\n",
      "Когда на входе tensor([80,  1,  1, 28, 39, 42]) на выходе (цель) 39\n",
      "Когда на входе tensor([80,  1,  1, 28, 39, 42, 39]) на выходе (цель) 44\n",
      "Когда на входе tensor([80,  1,  1, 28, 39, 42, 39, 44]) на выходе (цель) 32\n"
     ]
    }
   ],
   "source": [
    "x = train_data[:blok_size]\n",
    "y = train_data[1:blok_size+1]\n",
    "\n",
    "for t in range(blok_size):\n",
    "    context = x[:t+1]\n",
    "    target = y[t]\n",
    "    print(f'Когда на входе {context} на выходе (цель) {target}')"
   ]
  },
  {
   "cell_type": "code",
   "execution_count": null,
   "id": "eb7b32fe",
   "metadata": {},
   "outputs": [],
   "source": [
    "class BigramLanguageModel(nn.Module):\n",
    "    def __init__(self, vocab_size):\n",
    "        super().__init__()\n",
    "        self.token_embending_table == nn.Embedding(vocab_size, vocab_size)\n",
    "        \n",
    "    def forward(self, index, targets):\n",
    "        logits = self.token_embending_table(index)\n",
    "        B, T, C = logits.shape\n",
    "        logits = logits.view(B*T, C)\n",
    "        targets = targets.view(B*T)\n",
    "        loss = F.cross_entropy(logits, targets)\n",
    "        \n",
    "        return logits"
   ]
  }
 ],
 "metadata": {
  "kernelspec": {
   "display_name": "Python 3 (ipykernel)",
   "language": "python",
   "name": "python3"
  },
  "language_info": {
   "codemirror_mode": {
    "name": "ipython",
    "version": 3
   },
   "file_extension": ".py",
   "mimetype": "text/x-python",
   "name": "python",
   "nbconvert_exporter": "python",
   "pygments_lexer": "ipython3",
   "version": "3.11.4"
  }
 },
 "nbformat": 4,
 "nbformat_minor": 5
}
